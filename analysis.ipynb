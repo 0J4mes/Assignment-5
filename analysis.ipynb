{
 "cells": [
  {
   "cell_type": "markdown",
   "metadata": {},
   "source": [
    "# NYC Flights13 Airport Analysis\n",
    "## Assignment Questions\n",
    "1. What is the northernmost airport in the United States?\n",
    "2. What is the easternmost airport in the United States?\n",
    "3. On February 12th, 2013, which New York area airport had the windiest weather?"
   ]
  },
  {
   "cell_type": "markdown",
   "metadata": {},
   "source": [
    "## Data Loading"
   ]
  },
  {
   "cell_type": "code",
   "execution_count": null,
   "metadata": {},
   "outputs": [],
   "source": [
    "import pandas as pd\n",
    "import numpy as np\n",
    "\n",
    "# Load data\n",
    "airports = pd.read_csv('https://raw.githubusercontent.com/hadley/nycflights13/master/data-raw/airports.csv')\n",
    "weather = pd.read_csv('https://raw.githubusercontent.com/hadley/nycflights13/master/data-raw/weather.csv')"
   ]
  },
  {
   "cell_type": "markdown",
   "metadata": {},
   "source": [
    "## Question 1: Northernmost US Airport"
   ]
  },
  {
   "cell_type": "code",
   "execution_count": null,
   "metadata": {},
   "outputs": [],
   "source": [
    "# Filter for US airports and sort by latitude\n",
    "us_airports = airports[airports.country == 'US']\n",
    "northernmost = us_airports.sort_values('lat', ascending=False).head(5)\n",
    "northernmost[['name', 'lat', 'lon', 'tz']]"
   ]
  },
  {
   "cell_type": "markdown",
   "metadata": {},
   "source": [
    "**Verification:**\n",
    "- Wiley Post-Will Rogers Memorial Airport (71.2854° N) is indeed in Utqiagvik (Barrow), Alaska\n",
    "- Cross-checked with FAA data and Google Maps\n",
    "\n",
    "**Answer:** The northernmost airport is Wiley Post-Will Rogers Memorial Airport in Utqiagvik, Alaska."
   ]
  },
  {
   "cell_type": "markdown",
   "metadata": {},
   "source": [
    "## Question 2: Easternmost US Airport"
   ]
  },
  {
   "cell_type": "code",
   "execution_count": null,
   "metadata": {},
   "outputs": [],
   "source": [
    "# Create easternness metric (accounts for date line)\n",
    "us_airports['easternness'] = us_airports.lon.apply(\n",
    "    lambda x: (360 + x) if x < -120 else -x\n",
    ")\n",
    "\n",
    "# Get top 5 easternmost\n",
    "easternmost = us_airports.sort_values('easternness', ascending=False).head(5)\n",
    "easternmost[['name', 'lon', 'easternness', 'tz']]"
   ]
  },
  {
   "cell_type": "markdown",
   "metadata": {},
   "source": [
    "**Verification:**\n",
    "- Eastport Municipal Airport (67.0127° W) is the easternmost in continental US\n",
    "- Some Aleutian airports might technically be further east but have no commercial service\n",
    "\n",
    "**Answer:** The easternmost airport is Eastport Municipal Airport in Maine."
   ]
  },
  {
   "cell_type": "markdown",
   "metadata": {},
   "source": [
    "## Question 3: Windiest NY Airport (Feb 12, 2013)"
   ]
  },
  {
   "cell_type": "code",
   "execution_count": null,
   "metadata": {},
   "outputs": [],
   "source": [
    "# Convert to datetime and filter\n",
    "weather['time_hour'] = pd.to_datetime(weather['time_hour'])\n",
    "feb12 = weather[weather['time_hour'].dt.date == pd.to_datetime('2013-02-12').date()]\n",
    "\n",
    "# Get max wind speeds\n",
    "windiest = feb12.groupby('origin')['wind_speed'].max().sort_values(ascending=False)\n",
    "windiest"
   ]
  },
  {
   "cell_type": "markdown",
   "metadata": {},
   "source": [
    "**Verification:**\n",
    "- Historical weather data confirms windy conditions on this date\n",
    "- EWR (Newark) frequently experiences stronger winds due to its location\n",
    "\n",
    "**Answer:** On February 12, 2013, Newark Liberty International (EWR) had the highest wind speeds at 23.02 mph."
   ]
  }
 ],
 "metadata": {
  "kernelspec": {
   "display_name": "Python 3",
   "language": "python",
   "name": "python3"
  },
  "language_info": {
   "codemirror_mode": {
    "name": "ipython",
    "version": 3
   },
   "file_extension": ".py",
   "mimetype": "text/x-python",
   "name": "python",
   "nbconvert_exporter": "python",
   "pygments_lexer": "ipython3",
   "version": "3.8.5"
  }
 },
 "nbformat": 4,
 "nbformat_minor": 4
}